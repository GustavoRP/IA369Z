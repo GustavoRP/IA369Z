{
 "cells": [
  {
   "cell_type": "markdown",
   "metadata": {},
   "source": [
    "# Automatic Computation of Corpus Calosum Midsagittal Plane Through DTI-Divergence Map"
   ]
  },
  {
   "cell_type": "markdown",
   "metadata": {},
   "source": [
    "## Objetivo\n",
    "\n",
    "Este trabalho tem o objetivo é de estabelecer um plano de referência na estrutura do corpo caloso. Esta plano será calculado através do mapa de divergente em Imagens de Tensores de Difusão (DTI). Como este tipo de dado traz informações das fribas da matéria branca, o plano proposto é bastante relacionado com a organização destas fibras."
   ]
  },
  {
   "cell_type": "markdown",
   "metadata": {},
   "source": [
    "## Quais os dados que serão utilizados?\n",
    "\n",
    "Volumes DTI nifti\n"
   ]
  },
  {
   "cell_type": "markdown",
   "metadata": {},
   "source": [
    "## Onde eles foram (ou serão) obtidos?\n",
    "\n",
    "Banco de imagens do ADESSO\n"
   ]
  },
  {
   "cell_type": "markdown",
   "metadata": {},
   "source": [
    "## Qual o tamanho do conjunto de dados? Quantas amostras, quantos atributos?\n",
    "\n",
    "83 volumes DTI"
   ]
  },
  {
   "cell_type": "markdown",
   "metadata": {},
   "source": [
    "## Qual a forma de visualização de resultados você pretende usar?\n",
    "\n",
    "Imagens 3d para resultados qualitativos e graficos 2d ou tabelas para resultados quantitativos.\n"
   ]
  },
  {
   "cell_type": "markdown",
   "metadata": {},
   "source": [
    "## Para a forma de visualização citada acima, será preciso utilizar algum recurso/biblioteca específica?\n",
    "\n",
    "A princípio somente o matplotlib\n"
   ]
  },
  {
   "cell_type": "markdown",
   "metadata": {},
   "source": [
    "## Você pretende usar algum tipo de interatividade? Em caso afirmativo, explique?\n",
    "\n",
    "Interatividade para exibir os resultados"
   ]
  },
  {
   "cell_type": "markdown",
   "metadata": {},
   "source": [
    "# Rascunho do paper"
   ]
  },
  {
   "cell_type": "markdown",
   "metadata": {
    "collapsed": true
   },
   "source": [
    "## ABSTRACT\n",
    "\n",
    "Corpus Calosum (CC) is the largest White Matter (WM) structure in the brain and subject of many studies. Therefore, there is a need for some reference system that allows comparative studies to be performed. Some studies [x-y] use the Midsagittal plane (MSP) as a reference between different subjects. However, the MSP is based on structural MRI and takes in account the whole brain data to be computed. Differently, our proposed method computes this reference plane considering only the CC region and uses DTI data. It has two main advantages in comparison with traditional methods: the reference plane, now called CCMSP, fits the structure of interest and not the whole brain; and, as it is computed directly on DTI, so there is no need to perform any registration method between structural and diffusion modalities in cases where the study is done in the diffusion space. Since the CCMSP is computed in DT space, we can use the divergence map [z] to measure the geometry of the WM. In this way, we are taking advantage of the fiber organization to establish the reference system in a robust way."
   ]
  },
  {
   "cell_type": "markdown",
   "metadata": {},
   "source": [
    "## GOAL\n",
    "\n",
    "This work intends to stabish a reference plane to the corpus calosum strucure. This refence plane will be computed through DTI- based Divergence Map. As this map brings information about the fiber bundles of the white matter, the proposed plane is very related to the organization of those fibers."
   ]
  },
  {
   "cell_type": "markdown",
   "metadata": {},
   "source": [
    "## WORKFLOW\n",
    "\n",
    "<img src=\"../figures/Flow_02.png\" />"
   ]
  },
  {
   "cell_type": "markdown",
   "metadata": {},
   "source": [
    "# METHOD\n",
    "\n",
    "The flow of the data in this project folow this steps:\n",
    "First, the raw DWI data is processed in a extenal software called FSL to register the 33 volume, correct edge current effects and to compute the DTI and FA.\n",
    "\n",
    "After this pre-processing step, a segmentation of the CC is perfomed, using the algorithm described in [1], to extract the center of the structure. Its coordinates are used to create a cropped volume of fixed size for the next part of the method.\n",
    "\n",
    "The cropped volumes, both DTI and FA map, are used in the algorithm that converts the tensor field into a directed vector field. The conversion is done taking in account the main direction of the tensor weighted by FA, as we are interested in the white matter tissue, and the direction of interest.\n",
    "\n",
    "With the vector fields in hands, we compute the divergence map over these vector fields and select the points with highest absolute values. These points feed a plane fitting algorithm that iteratively removes outliers to find the plane that best fits the points.\n",
    "\n",
    "After computig a plane for each divergence map, these plane will be compared with the direction of study and the best plane will be selected as the Calosal Mid Sagital Plane."
   ]
  },
  {
   "cell_type": "markdown",
   "metadata": {},
   "source": [
    "# CONCLUSION"
   ]
  },
  {
   "cell_type": "markdown",
   "metadata": {},
   "source": [
    "# REFERENCES\n",
    "\n",
    "[1] Freitas, P., Rittner, L., Appenzeller, S., Lotufo, R.: Watershed-based segmentation of the midsagittal section of the corpus callosum in diffusion mri. In: Graphics, Patterns and Images (Sibgrapi), 2011 24th SIBGRAPI Conference on, pp. 274–280. IEEE (2011)"
   ]
  },
  {
   "cell_type": "code",
   "execution_count": null,
   "metadata": {
    "collapsed": true
   },
   "outputs": [],
   "source": []
  }
 ],
 "metadata": {
  "anaconda-cloud": {},
  "kernelspec": {
   "display_name": "Python [conda env:py2]",
   "language": "python",
   "name": "conda-env-py2-py"
  },
  "language_info": {
   "codemirror_mode": {
    "name": "ipython",
    "version": 2
   },
   "file_extension": ".py",
   "mimetype": "text/x-python",
   "name": "python",
   "nbconvert_exporter": "python",
   "pygments_lexer": "ipython2",
   "version": "2.7.12"
  }
 },
 "nbformat": 4,
 "nbformat_minor": 1
}
