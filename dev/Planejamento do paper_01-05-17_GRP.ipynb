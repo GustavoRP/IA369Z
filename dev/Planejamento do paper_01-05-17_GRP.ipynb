{
 "cells": [
  {
   "cell_type": "markdown",
   "metadata": {},
   "source": [
    "# Automatic Computation of Corpus Calosum Midsagittal Plane Through DTI-Divergence Map"
   ]
  },
  {
   "cell_type": "markdown",
   "metadata": {},
   "source": [
    "## Objetivo\n",
    "\n",
    "Este trabalho tem o objetivo é de estabelecer um plano de referência na estrutura do corpo caloso. Esta plano será calculado através do mapa de divergente em Imagens de Tensores de Difusão (DTI). Como este tipo de dado traz informações das fribas da matéria branca, o plano proposto é bastante relacionado com a organização destas fibras."
   ]
  },
  {
   "cell_type": "markdown",
   "metadata": {},
   "source": [
    "## Quais os dados que serão utilizados?\n",
    "\n",
    "Volumes DTI nifti\n"
   ]
  },
  {
   "cell_type": "markdown",
   "metadata": {},
   "source": [
    "## Onde eles foram (ou serão) obtidos?\n",
    "\n",
    "Banco de imagens do ADESSO\n"
   ]
  },
  {
   "cell_type": "markdown",
   "metadata": {},
   "source": [
    "## Qual o tamanho do conjunto de dados? Quantas amostras, quantos atributos?\n",
    "\n",
    "83 volumes DTI"
   ]
  },
  {
   "cell_type": "markdown",
   "metadata": {},
   "source": [
    "## Qual a forma de visualização de resultados você pretende usar?\n",
    "\n",
    "Imagens 3d para resultados qualitativos e graficos 2d ou tabelas para resultados quantitativos.\n"
   ]
  },
  {
   "cell_type": "markdown",
   "metadata": {},
   "source": [
    "## Para a forma de visulaização citada acima, será preciso utilizar algum recurso/biblioteca específica?\n",
    "\n",
    "A princípio somente o matplotlib\n"
   ]
  },
  {
   "cell_type": "markdown",
   "metadata": {},
   "source": [
    "## Você pretende usar algum tipo de interatividade? Em caso afirmativo, explique?\n",
    "\n",
    "Interatividade para exibir os resultados"
   ]
  },
  {
   "cell_type": "code",
   "execution_count": null,
   "metadata": {
    "collapsed": true
   },
   "outputs": [],
   "source": []
  }
 ],
 "metadata": {
  "anaconda-cloud": {},
  "kernelspec": {
   "display_name": "Python [conda env:py2]",
   "language": "python",
   "name": "conda-env-py2-py"
  },
  "language_info": {
   "codemirror_mode": {
    "name": "ipython",
    "version": 2
   },
   "file_extension": ".py",
   "mimetype": "text/x-python",
   "name": "python",
   "nbconvert_exporter": "python",
   "pygments_lexer": "ipython2",
   "version": "2.7.12"
  }
 },
 "nbformat": 4,
 "nbformat_minor": 1
}
