{
 "cells": [
  {
   "cell_type": "markdown",
   "metadata": {},
   "source": [
    "# Automatic Computation of Corpus Calosum Midsagittal Plane Through DTI-Divergence Map"
   ]
  },
  {
   "cell_type": "markdown",
   "metadata": {},
   "source": [
    "## ABSTRACT\n",
    "\n",
    "Corpus Calosum (CC) is the largest White Matter (WM) structure in the brain and subject of many studies. Therefore, there is a need for some reference system that allows comparative studies to be performed. Some studies [x-y] use the Midsagittal plane (MSP) as a reference between different subjects. However, the MSP is based on structural MRI and takes in account the whole brain data to be computed. Differently, our proposed method computes this reference plane considering only the CC region and uses DTI data. It has two main advantages in comparison with traditional methods: the reference plane, now called CCMSP, fits the structure of interest and not the whole brain; and, as it is computed directly on DTI, so there is no need to perform any registration method between structural and diffusion modalities in cases where the study is done in the diffusion space. Since the CCMSP is computed in DT space, we can use the divergence map [z] to measure the geometry of the WM. In this way, we are taking advantage of the fiber organization to establish the reference system in a robust way."
   ]
  },
  {
   "cell_type": "markdown",
   "metadata": {},
   "source": [
    "## INTRODUCTION"
   ]
  },
  {
   "cell_type": "markdown",
   "metadata": {},
   "source": [
    "## WORKFLOW\n",
    "\n",
    "![workflow](Flow_01.png)"
   ]
  },
  {
   "cell_type": "code",
   "execution_count": null,
   "metadata": {
    "collapsed": true
   },
   "outputs": [],
   "source": []
  }
 ],
 "metadata": {
  "anaconda-cloud": {},
  "kernelspec": {
   "display_name": "Python [conda env:py2]",
   "language": "python",
   "name": "conda-env-py2-py"
  },
  "language_info": {
   "codemirror_mode": {
    "name": "ipython",
    "version": 2
   },
   "file_extension": ".py",
   "mimetype": "text/x-python",
   "name": "python",
   "nbconvert_exporter": "python",
   "pygments_lexer": "ipython2",
   "version": "2.7.12"
  }
 },
 "nbformat": 4,
 "nbformat_minor": 1
}
